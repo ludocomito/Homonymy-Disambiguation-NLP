{
  "nbformat": 4,
  "nbformat_minor": 0,
  "metadata": {
    "colab": {
      "provenance": [],
      "gpuType": "T4"
    },
    "kernelspec": {
      "name": "python3",
      "display_name": "Python 3"
    },
    "language_info": {
      "name": "python"
    },
    "accelerator": "GPU",
    "widgets": {
      "application/vnd.jupyter.widget-state+json": {
        "e20d7811ffc2408d86c9823d3326a79c": {
          "model_module": "@jupyter-widgets/controls",
          "model_name": "HBoxModel",
          "model_module_version": "1.5.0",
          "state": {
            "_dom_classes": [],
            "_model_module": "@jupyter-widgets/controls",
            "_model_module_version": "1.5.0",
            "_model_name": "HBoxModel",
            "_view_count": null,
            "_view_module": "@jupyter-widgets/controls",
            "_view_module_version": "1.5.0",
            "_view_name": "HBoxView",
            "box_style": "",
            "children": [
              "IPY_MODEL_9f3cbc898f38496b97f3b3b5001e67ea",
              "IPY_MODEL_451bd26fc2334fccbfafca46f1d57f71",
              "IPY_MODEL_87d2df697b3640b28ad116e70cbc116f"
            ],
            "layout": "IPY_MODEL_c90f0a2357a246ea87fef7f4a86f2a7e"
          }
        },
        "9f3cbc898f38496b97f3b3b5001e67ea": {
          "model_module": "@jupyter-widgets/controls",
          "model_name": "HTMLModel",
          "model_module_version": "1.5.0",
          "state": {
            "_dom_classes": [],
            "_model_module": "@jupyter-widgets/controls",
            "_model_module_version": "1.5.0",
            "_model_name": "HTMLModel",
            "_view_count": null,
            "_view_module": "@jupyter-widgets/controls",
            "_view_module_version": "1.5.0",
            "_view_name": "HTMLView",
            "description": "",
            "description_tooltip": null,
            "layout": "IPY_MODEL_ecf8bbe446be412f81208368cf6f01e9",
            "placeholder": "​",
            "style": "IPY_MODEL_93bdf06337c84fae8509bfe7c792ba10",
            "value": "Downloading (…)okenizer_config.json: 100%"
          }
        },
        "451bd26fc2334fccbfafca46f1d57f71": {
          "model_module": "@jupyter-widgets/controls",
          "model_name": "FloatProgressModel",
          "model_module_version": "1.5.0",
          "state": {
            "_dom_classes": [],
            "_model_module": "@jupyter-widgets/controls",
            "_model_module_version": "1.5.0",
            "_model_name": "FloatProgressModel",
            "_view_count": null,
            "_view_module": "@jupyter-widgets/controls",
            "_view_module_version": "1.5.0",
            "_view_name": "ProgressView",
            "bar_style": "success",
            "description": "",
            "description_tooltip": null,
            "layout": "IPY_MODEL_0f3663ca05fe41c7813b3da67a0fc398",
            "max": 52,
            "min": 0,
            "orientation": "horizontal",
            "style": "IPY_MODEL_340320c9881c4428aeef411e6dd041ab",
            "value": 52
          }
        },
        "87d2df697b3640b28ad116e70cbc116f": {
          "model_module": "@jupyter-widgets/controls",
          "model_name": "HTMLModel",
          "model_module_version": "1.5.0",
          "state": {
            "_dom_classes": [],
            "_model_module": "@jupyter-widgets/controls",
            "_model_module_version": "1.5.0",
            "_model_name": "HTMLModel",
            "_view_count": null,
            "_view_module": "@jupyter-widgets/controls",
            "_view_module_version": "1.5.0",
            "_view_name": "HTMLView",
            "description": "",
            "description_tooltip": null,
            "layout": "IPY_MODEL_5cc513ff1bcb4c4282fd5568e2ebc863",
            "placeholder": "​",
            "style": "IPY_MODEL_e567ca33ef254dad9de08c37f10a18f9",
            "value": " 52.0/52.0 [00:00&lt;00:00, 3.35kB/s]"
          }
        },
        "c90f0a2357a246ea87fef7f4a86f2a7e": {
          "model_module": "@jupyter-widgets/base",
          "model_name": "LayoutModel",
          "model_module_version": "1.2.0",
          "state": {
            "_model_module": "@jupyter-widgets/base",
            "_model_module_version": "1.2.0",
            "_model_name": "LayoutModel",
            "_view_count": null,
            "_view_module": "@jupyter-widgets/base",
            "_view_module_version": "1.2.0",
            "_view_name": "LayoutView",
            "align_content": null,
            "align_items": null,
            "align_self": null,
            "border": null,
            "bottom": null,
            "display": null,
            "flex": null,
            "flex_flow": null,
            "grid_area": null,
            "grid_auto_columns": null,
            "grid_auto_flow": null,
            "grid_auto_rows": null,
            "grid_column": null,
            "grid_gap": null,
            "grid_row": null,
            "grid_template_areas": null,
            "grid_template_columns": null,
            "grid_template_rows": null,
            "height": null,
            "justify_content": null,
            "justify_items": null,
            "left": null,
            "margin": null,
            "max_height": null,
            "max_width": null,
            "min_height": null,
            "min_width": null,
            "object_fit": null,
            "object_position": null,
            "order": null,
            "overflow": null,
            "overflow_x": null,
            "overflow_y": null,
            "padding": null,
            "right": null,
            "top": null,
            "visibility": null,
            "width": null
          }
        },
        "ecf8bbe446be412f81208368cf6f01e9": {
          "model_module": "@jupyter-widgets/base",
          "model_name": "LayoutModel",
          "model_module_version": "1.2.0",
          "state": {
            "_model_module": "@jupyter-widgets/base",
            "_model_module_version": "1.2.0",
            "_model_name": "LayoutModel",
            "_view_count": null,
            "_view_module": "@jupyter-widgets/base",
            "_view_module_version": "1.2.0",
            "_view_name": "LayoutView",
            "align_content": null,
            "align_items": null,
            "align_self": null,
            "border": null,
            "bottom": null,
            "display": null,
            "flex": null,
            "flex_flow": null,
            "grid_area": null,
            "grid_auto_columns": null,
            "grid_auto_flow": null,
            "grid_auto_rows": null,
            "grid_column": null,
            "grid_gap": null,
            "grid_row": null,
            "grid_template_areas": null,
            "grid_template_columns": null,
            "grid_template_rows": null,
            "height": null,
            "justify_content": null,
            "justify_items": null,
            "left": null,
            "margin": null,
            "max_height": null,
            "max_width": null,
            "min_height": null,
            "min_width": null,
            "object_fit": null,
            "object_position": null,
            "order": null,
            "overflow": null,
            "overflow_x": null,
            "overflow_y": null,
            "padding": null,
            "right": null,
            "top": null,
            "visibility": null,
            "width": null
          }
        },
        "93bdf06337c84fae8509bfe7c792ba10": {
          "model_module": "@jupyter-widgets/controls",
          "model_name": "DescriptionStyleModel",
          "model_module_version": "1.5.0",
          "state": {
            "_model_module": "@jupyter-widgets/controls",
            "_model_module_version": "1.5.0",
            "_model_name": "DescriptionStyleModel",
            "_view_count": null,
            "_view_module": "@jupyter-widgets/base",
            "_view_module_version": "1.2.0",
            "_view_name": "StyleView",
            "description_width": ""
          }
        },
        "0f3663ca05fe41c7813b3da67a0fc398": {
          "model_module": "@jupyter-widgets/base",
          "model_name": "LayoutModel",
          "model_module_version": "1.2.0",
          "state": {
            "_model_module": "@jupyter-widgets/base",
            "_model_module_version": "1.2.0",
            "_model_name": "LayoutModel",
            "_view_count": null,
            "_view_module": "@jupyter-widgets/base",
            "_view_module_version": "1.2.0",
            "_view_name": "LayoutView",
            "align_content": null,
            "align_items": null,
            "align_self": null,
            "border": null,
            "bottom": null,
            "display": null,
            "flex": null,
            "flex_flow": null,
            "grid_area": null,
            "grid_auto_columns": null,
            "grid_auto_flow": null,
            "grid_auto_rows": null,
            "grid_column": null,
            "grid_gap": null,
            "grid_row": null,
            "grid_template_areas": null,
            "grid_template_columns": null,
            "grid_template_rows": null,
            "height": null,
            "justify_content": null,
            "justify_items": null,
            "left": null,
            "margin": null,
            "max_height": null,
            "max_width": null,
            "min_height": null,
            "min_width": null,
            "object_fit": null,
            "object_position": null,
            "order": null,
            "overflow": null,
            "overflow_x": null,
            "overflow_y": null,
            "padding": null,
            "right": null,
            "top": null,
            "visibility": null,
            "width": null
          }
        },
        "340320c9881c4428aeef411e6dd041ab": {
          "model_module": "@jupyter-widgets/controls",
          "model_name": "ProgressStyleModel",
          "model_module_version": "1.5.0",
          "state": {
            "_model_module": "@jupyter-widgets/controls",
            "_model_module_version": "1.5.0",
            "_model_name": "ProgressStyleModel",
            "_view_count": null,
            "_view_module": "@jupyter-widgets/base",
            "_view_module_version": "1.2.0",
            "_view_name": "StyleView",
            "bar_color": null,
            "description_width": ""
          }
        },
        "5cc513ff1bcb4c4282fd5568e2ebc863": {
          "model_module": "@jupyter-widgets/base",
          "model_name": "LayoutModel",
          "model_module_version": "1.2.0",
          "state": {
            "_model_module": "@jupyter-widgets/base",
            "_model_module_version": "1.2.0",
            "_model_name": "LayoutModel",
            "_view_count": null,
            "_view_module": "@jupyter-widgets/base",
            "_view_module_version": "1.2.0",
            "_view_name": "LayoutView",
            "align_content": null,
            "align_items": null,
            "align_self": null,
            "border": null,
            "bottom": null,
            "display": null,
            "flex": null,
            "flex_flow": null,
            "grid_area": null,
            "grid_auto_columns": null,
            "grid_auto_flow": null,
            "grid_auto_rows": null,
            "grid_column": null,
            "grid_gap": null,
            "grid_row": null,
            "grid_template_areas": null,
            "grid_template_columns": null,
            "grid_template_rows": null,
            "height": null,
            "justify_content": null,
            "justify_items": null,
            "left": null,
            "margin": null,
            "max_height": null,
            "max_width": null,
            "min_height": null,
            "min_width": null,
            "object_fit": null,
            "object_position": null,
            "order": null,
            "overflow": null,
            "overflow_x": null,
            "overflow_y": null,
            "padding": null,
            "right": null,
            "top": null,
            "visibility": null,
            "width": null
          }
        },
        "e567ca33ef254dad9de08c37f10a18f9": {
          "model_module": "@jupyter-widgets/controls",
          "model_name": "DescriptionStyleModel",
          "model_module_version": "1.5.0",
          "state": {
            "_model_module": "@jupyter-widgets/controls",
            "_model_module_version": "1.5.0",
            "_model_name": "DescriptionStyleModel",
            "_view_count": null,
            "_view_module": "@jupyter-widgets/base",
            "_view_module_version": "1.2.0",
            "_view_name": "StyleView",
            "description_width": ""
          }
        },
        "8c8c767bfa794a4e9aa4de70cd75219b": {
          "model_module": "@jupyter-widgets/controls",
          "model_name": "HBoxModel",
          "model_module_version": "1.5.0",
          "state": {
            "_dom_classes": [],
            "_model_module": "@jupyter-widgets/controls",
            "_model_module_version": "1.5.0",
            "_model_name": "HBoxModel",
            "_view_count": null,
            "_view_module": "@jupyter-widgets/controls",
            "_view_module_version": "1.5.0",
            "_view_name": "HBoxView",
            "box_style": "",
            "children": [
              "IPY_MODEL_c37eb76bde16445abf6aff3ac924d748",
              "IPY_MODEL_883ba3d6d05145639bd020147cd9cf1c",
              "IPY_MODEL_1062a28b5816477f8047ffb8204ae67e"
            ],
            "layout": "IPY_MODEL_70bac1f92b124b39b0e7d63251b5b77a"
          }
        },
        "c37eb76bde16445abf6aff3ac924d748": {
          "model_module": "@jupyter-widgets/controls",
          "model_name": "HTMLModel",
          "model_module_version": "1.5.0",
          "state": {
            "_dom_classes": [],
            "_model_module": "@jupyter-widgets/controls",
            "_model_module_version": "1.5.0",
            "_model_name": "HTMLModel",
            "_view_count": null,
            "_view_module": "@jupyter-widgets/controls",
            "_view_module_version": "1.5.0",
            "_view_name": "HTMLView",
            "description": "",
            "description_tooltip": null,
            "layout": "IPY_MODEL_f7ffe0382aab4df8a97cd00b47e3d910",
            "placeholder": "​",
            "style": "IPY_MODEL_a33b9b9c9a9a40ecbc1bc1222ce07dda",
            "value": "Downloading (…)lve/main/config.json: 100%"
          }
        },
        "883ba3d6d05145639bd020147cd9cf1c": {
          "model_module": "@jupyter-widgets/controls",
          "model_name": "FloatProgressModel",
          "model_module_version": "1.5.0",
          "state": {
            "_dom_classes": [],
            "_model_module": "@jupyter-widgets/controls",
            "_model_module_version": "1.5.0",
            "_model_name": "FloatProgressModel",
            "_view_count": null,
            "_view_module": "@jupyter-widgets/controls",
            "_view_module_version": "1.5.0",
            "_view_name": "ProgressView",
            "bar_style": "success",
            "description": "",
            "description_tooltip": null,
            "layout": "IPY_MODEL_2eeaf1bf90c44f7ca37e93673ad3afb4",
            "max": 474,
            "min": 0,
            "orientation": "horizontal",
            "style": "IPY_MODEL_aafb3bd101d642829c1e6b1ad1f69b71",
            "value": 474
          }
        },
        "1062a28b5816477f8047ffb8204ae67e": {
          "model_module": "@jupyter-widgets/controls",
          "model_name": "HTMLModel",
          "model_module_version": "1.5.0",
          "state": {
            "_dom_classes": [],
            "_model_module": "@jupyter-widgets/controls",
            "_model_module_version": "1.5.0",
            "_model_name": "HTMLModel",
            "_view_count": null,
            "_view_module": "@jupyter-widgets/controls",
            "_view_module_version": "1.5.0",
            "_view_name": "HTMLView",
            "description": "",
            "description_tooltip": null,
            "layout": "IPY_MODEL_24cafc7d07d14452a9669464001c494b",
            "placeholder": "​",
            "style": "IPY_MODEL_370561b778f1436ba58ba173fbe8eadc",
            "value": " 474/474 [00:00&lt;00:00, 29.3kB/s]"
          }
        },
        "70bac1f92b124b39b0e7d63251b5b77a": {
          "model_module": "@jupyter-widgets/base",
          "model_name": "LayoutModel",
          "model_module_version": "1.2.0",
          "state": {
            "_model_module": "@jupyter-widgets/base",
            "_model_module_version": "1.2.0",
            "_model_name": "LayoutModel",
            "_view_count": null,
            "_view_module": "@jupyter-widgets/base",
            "_view_module_version": "1.2.0",
            "_view_name": "LayoutView",
            "align_content": null,
            "align_items": null,
            "align_self": null,
            "border": null,
            "bottom": null,
            "display": null,
            "flex": null,
            "flex_flow": null,
            "grid_area": null,
            "grid_auto_columns": null,
            "grid_auto_flow": null,
            "grid_auto_rows": null,
            "grid_column": null,
            "grid_gap": null,
            "grid_row": null,
            "grid_template_areas": null,
            "grid_template_columns": null,
            "grid_template_rows": null,
            "height": null,
            "justify_content": null,
            "justify_items": null,
            "left": null,
            "margin": null,
            "max_height": null,
            "max_width": null,
            "min_height": null,
            "min_width": null,
            "object_fit": null,
            "object_position": null,
            "order": null,
            "overflow": null,
            "overflow_x": null,
            "overflow_y": null,
            "padding": null,
            "right": null,
            "top": null,
            "visibility": null,
            "width": null
          }
        },
        "f7ffe0382aab4df8a97cd00b47e3d910": {
          "model_module": "@jupyter-widgets/base",
          "model_name": "LayoutModel",
          "model_module_version": "1.2.0",
          "state": {
            "_model_module": "@jupyter-widgets/base",
            "_model_module_version": "1.2.0",
            "_model_name": "LayoutModel",
            "_view_count": null,
            "_view_module": "@jupyter-widgets/base",
            "_view_module_version": "1.2.0",
            "_view_name": "LayoutView",
            "align_content": null,
            "align_items": null,
            "align_self": null,
            "border": null,
            "bottom": null,
            "display": null,
            "flex": null,
            "flex_flow": null,
            "grid_area": null,
            "grid_auto_columns": null,
            "grid_auto_flow": null,
            "grid_auto_rows": null,
            "grid_column": null,
            "grid_gap": null,
            "grid_row": null,
            "grid_template_areas": null,
            "grid_template_columns": null,
            "grid_template_rows": null,
            "height": null,
            "justify_content": null,
            "justify_items": null,
            "left": null,
            "margin": null,
            "max_height": null,
            "max_width": null,
            "min_height": null,
            "min_width": null,
            "object_fit": null,
            "object_position": null,
            "order": null,
            "overflow": null,
            "overflow_x": null,
            "overflow_y": null,
            "padding": null,
            "right": null,
            "top": null,
            "visibility": null,
            "width": null
          }
        },
        "a33b9b9c9a9a40ecbc1bc1222ce07dda": {
          "model_module": "@jupyter-widgets/controls",
          "model_name": "DescriptionStyleModel",
          "model_module_version": "1.5.0",
          "state": {
            "_model_module": "@jupyter-widgets/controls",
            "_model_module_version": "1.5.0",
            "_model_name": "DescriptionStyleModel",
            "_view_count": null,
            "_view_module": "@jupyter-widgets/base",
            "_view_module_version": "1.2.0",
            "_view_name": "StyleView",
            "description_width": ""
          }
        },
        "2eeaf1bf90c44f7ca37e93673ad3afb4": {
          "model_module": "@jupyter-widgets/base",
          "model_name": "LayoutModel",
          "model_module_version": "1.2.0",
          "state": {
            "_model_module": "@jupyter-widgets/base",
            "_model_module_version": "1.2.0",
            "_model_name": "LayoutModel",
            "_view_count": null,
            "_view_module": "@jupyter-widgets/base",
            "_view_module_version": "1.2.0",
            "_view_name": "LayoutView",
            "align_content": null,
            "align_items": null,
            "align_self": null,
            "border": null,
            "bottom": null,
            "display": null,
            "flex": null,
            "flex_flow": null,
            "grid_area": null,
            "grid_auto_columns": null,
            "grid_auto_flow": null,
            "grid_auto_rows": null,
            "grid_column": null,
            "grid_gap": null,
            "grid_row": null,
            "grid_template_areas": null,
            "grid_template_columns": null,
            "grid_template_rows": null,
            "height": null,
            "justify_content": null,
            "justify_items": null,
            "left": null,
            "margin": null,
            "max_height": null,
            "max_width": null,
            "min_height": null,
            "min_width": null,
            "object_fit": null,
            "object_position": null,
            "order": null,
            "overflow": null,
            "overflow_x": null,
            "overflow_y": null,
            "padding": null,
            "right": null,
            "top": null,
            "visibility": null,
            "width": null
          }
        },
        "aafb3bd101d642829c1e6b1ad1f69b71": {
          "model_module": "@jupyter-widgets/controls",
          "model_name": "ProgressStyleModel",
          "model_module_version": "1.5.0",
          "state": {
            "_model_module": "@jupyter-widgets/controls",
            "_model_module_version": "1.5.0",
            "_model_name": "ProgressStyleModel",
            "_view_count": null,
            "_view_module": "@jupyter-widgets/base",
            "_view_module_version": "1.2.0",
            "_view_name": "StyleView",
            "bar_color": null,
            "description_width": ""
          }
        },
        "24cafc7d07d14452a9669464001c494b": {
          "model_module": "@jupyter-widgets/base",
          "model_name": "LayoutModel",
          "model_module_version": "1.2.0",
          "state": {
            "_model_module": "@jupyter-widgets/base",
            "_model_module_version": "1.2.0",
            "_model_name": "LayoutModel",
            "_view_count": null,
            "_view_module": "@jupyter-widgets/base",
            "_view_module_version": "1.2.0",
            "_view_name": "LayoutView",
            "align_content": null,
            "align_items": null,
            "align_self": null,
            "border": null,
            "bottom": null,
            "display": null,
            "flex": null,
            "flex_flow": null,
            "grid_area": null,
            "grid_auto_columns": null,
            "grid_auto_flow": null,
            "grid_auto_rows": null,
            "grid_column": null,
            "grid_gap": null,
            "grid_row": null,
            "grid_template_areas": null,
            "grid_template_columns": null,
            "grid_template_rows": null,
            "height": null,
            "justify_content": null,
            "justify_items": null,
            "left": null,
            "margin": null,
            "max_height": null,
            "max_width": null,
            "min_height": null,
            "min_width": null,
            "object_fit": null,
            "object_position": null,
            "order": null,
            "overflow": null,
            "overflow_x": null,
            "overflow_y": null,
            "padding": null,
            "right": null,
            "top": null,
            "visibility": null,
            "width": null
          }
        },
        "370561b778f1436ba58ba173fbe8eadc": {
          "model_module": "@jupyter-widgets/controls",
          "model_name": "DescriptionStyleModel",
          "model_module_version": "1.5.0",
          "state": {
            "_model_module": "@jupyter-widgets/controls",
            "_model_module_version": "1.5.0",
            "_model_name": "DescriptionStyleModel",
            "_view_count": null,
            "_view_module": "@jupyter-widgets/base",
            "_view_module_version": "1.2.0",
            "_view_name": "StyleView",
            "description_width": ""
          }
        },
        "347afc947df94f01be1d6d0b22bdbfcd": {
          "model_module": "@jupyter-widgets/controls",
          "model_name": "HBoxModel",
          "model_module_version": "1.5.0",
          "state": {
            "_dom_classes": [],
            "_model_module": "@jupyter-widgets/controls",
            "_model_module_version": "1.5.0",
            "_model_name": "HBoxModel",
            "_view_count": null,
            "_view_module": "@jupyter-widgets/controls",
            "_view_module_version": "1.5.0",
            "_view_name": "HBoxView",
            "box_style": "",
            "children": [
              "IPY_MODEL_8bbd7ed81c1647ecaef3d235c7c303a8",
              "IPY_MODEL_3747b62b5bf8475197c40cb92943b6b0",
              "IPY_MODEL_f81b00dcf749482e979be9caf7f051ef"
            ],
            "layout": "IPY_MODEL_721ac514624e4de0810962bb1bb33ff6"
          }
        },
        "8bbd7ed81c1647ecaef3d235c7c303a8": {
          "model_module": "@jupyter-widgets/controls",
          "model_name": "HTMLModel",
          "model_module_version": "1.5.0",
          "state": {
            "_dom_classes": [],
            "_model_module": "@jupyter-widgets/controls",
            "_model_module_version": "1.5.0",
            "_model_name": "HTMLModel",
            "_view_count": null,
            "_view_module": "@jupyter-widgets/controls",
            "_view_module_version": "1.5.0",
            "_view_name": "HTMLView",
            "description": "",
            "description_tooltip": null,
            "layout": "IPY_MODEL_0cf3370c88934a709ff73019cb1791b7",
            "placeholder": "​",
            "style": "IPY_MODEL_a5a79fa2799c4f91b4eb2d8288684c02",
            "value": "Downloading (…)olve/main/vocab.json: 100%"
          }
        },
        "3747b62b5bf8475197c40cb92943b6b0": {
          "model_module": "@jupyter-widgets/controls",
          "model_name": "FloatProgressModel",
          "model_module_version": "1.5.0",
          "state": {
            "_dom_classes": [],
            "_model_module": "@jupyter-widgets/controls",
            "_model_module_version": "1.5.0",
            "_model_name": "FloatProgressModel",
            "_view_count": null,
            "_view_module": "@jupyter-widgets/controls",
            "_view_module_version": "1.5.0",
            "_view_name": "ProgressView",
            "bar_style": "success",
            "description": "",
            "description_tooltip": null,
            "layout": "IPY_MODEL_83da57742c8e4c2c811b08d67b3f63ff",
            "max": 898825,
            "min": 0,
            "orientation": "horizontal",
            "style": "IPY_MODEL_4859c8aa01ca43f39b2290148dee196e",
            "value": 898825
          }
        },
        "f81b00dcf749482e979be9caf7f051ef": {
          "model_module": "@jupyter-widgets/controls",
          "model_name": "HTMLModel",
          "model_module_version": "1.5.0",
          "state": {
            "_dom_classes": [],
            "_model_module": "@jupyter-widgets/controls",
            "_model_module_version": "1.5.0",
            "_model_name": "HTMLModel",
            "_view_count": null,
            "_view_module": "@jupyter-widgets/controls",
            "_view_module_version": "1.5.0",
            "_view_name": "HTMLView",
            "description": "",
            "description_tooltip": null,
            "layout": "IPY_MODEL_1f867f35853842c78ed0ff8d15fd2202",
            "placeholder": "​",
            "style": "IPY_MODEL_3e9fceed98d147968c216182573d94ea",
            "value": " 899k/899k [00:00&lt;00:00, 12.2MB/s]"
          }
        },
        "721ac514624e4de0810962bb1bb33ff6": {
          "model_module": "@jupyter-widgets/base",
          "model_name": "LayoutModel",
          "model_module_version": "1.2.0",
          "state": {
            "_model_module": "@jupyter-widgets/base",
            "_model_module_version": "1.2.0",
            "_model_name": "LayoutModel",
            "_view_count": null,
            "_view_module": "@jupyter-widgets/base",
            "_view_module_version": "1.2.0",
            "_view_name": "LayoutView",
            "align_content": null,
            "align_items": null,
            "align_self": null,
            "border": null,
            "bottom": null,
            "display": null,
            "flex": null,
            "flex_flow": null,
            "grid_area": null,
            "grid_auto_columns": null,
            "grid_auto_flow": null,
            "grid_auto_rows": null,
            "grid_column": null,
            "grid_gap": null,
            "grid_row": null,
            "grid_template_areas": null,
            "grid_template_columns": null,
            "grid_template_rows": null,
            "height": null,
            "justify_content": null,
            "justify_items": null,
            "left": null,
            "margin": null,
            "max_height": null,
            "max_width": null,
            "min_height": null,
            "min_width": null,
            "object_fit": null,
            "object_position": null,
            "order": null,
            "overflow": null,
            "overflow_x": null,
            "overflow_y": null,
            "padding": null,
            "right": null,
            "top": null,
            "visibility": null,
            "width": null
          }
        },
        "0cf3370c88934a709ff73019cb1791b7": {
          "model_module": "@jupyter-widgets/base",
          "model_name": "LayoutModel",
          "model_module_version": "1.2.0",
          "state": {
            "_model_module": "@jupyter-widgets/base",
            "_model_module_version": "1.2.0",
            "_model_name": "LayoutModel",
            "_view_count": null,
            "_view_module": "@jupyter-widgets/base",
            "_view_module_version": "1.2.0",
            "_view_name": "LayoutView",
            "align_content": null,
            "align_items": null,
            "align_self": null,
            "border": null,
            "bottom": null,
            "display": null,
            "flex": null,
            "flex_flow": null,
            "grid_area": null,
            "grid_auto_columns": null,
            "grid_auto_flow": null,
            "grid_auto_rows": null,
            "grid_column": null,
            "grid_gap": null,
            "grid_row": null,
            "grid_template_areas": null,
            "grid_template_columns": null,
            "grid_template_rows": null,
            "height": null,
            "justify_content": null,
            "justify_items": null,
            "left": null,
            "margin": null,
            "max_height": null,
            "max_width": null,
            "min_height": null,
            "min_width": null,
            "object_fit": null,
            "object_position": null,
            "order": null,
            "overflow": null,
            "overflow_x": null,
            "overflow_y": null,
            "padding": null,
            "right": null,
            "top": null,
            "visibility": null,
            "width": null
          }
        },
        "a5a79fa2799c4f91b4eb2d8288684c02": {
          "model_module": "@jupyter-widgets/controls",
          "model_name": "DescriptionStyleModel",
          "model_module_version": "1.5.0",
          "state": {
            "_model_module": "@jupyter-widgets/controls",
            "_model_module_version": "1.5.0",
            "_model_name": "DescriptionStyleModel",
            "_view_count": null,
            "_view_module": "@jupyter-widgets/base",
            "_view_module_version": "1.2.0",
            "_view_name": "StyleView",
            "description_width": ""
          }
        },
        "83da57742c8e4c2c811b08d67b3f63ff": {
          "model_module": "@jupyter-widgets/base",
          "model_name": "LayoutModel",
          "model_module_version": "1.2.0",
          "state": {
            "_model_module": "@jupyter-widgets/base",
            "_model_module_version": "1.2.0",
            "_model_name": "LayoutModel",
            "_view_count": null,
            "_view_module": "@jupyter-widgets/base",
            "_view_module_version": "1.2.0",
            "_view_name": "LayoutView",
            "align_content": null,
            "align_items": null,
            "align_self": null,
            "border": null,
            "bottom": null,
            "display": null,
            "flex": null,
            "flex_flow": null,
            "grid_area": null,
            "grid_auto_columns": null,
            "grid_auto_flow": null,
            "grid_auto_rows": null,
            "grid_column": null,
            "grid_gap": null,
            "grid_row": null,
            "grid_template_areas": null,
            "grid_template_columns": null,
            "grid_template_rows": null,
            "height": null,
            "justify_content": null,
            "justify_items": null,
            "left": null,
            "margin": null,
            "max_height": null,
            "max_width": null,
            "min_height": null,
            "min_width": null,
            "object_fit": null,
            "object_position": null,
            "order": null,
            "overflow": null,
            "overflow_x": null,
            "overflow_y": null,
            "padding": null,
            "right": null,
            "top": null,
            "visibility": null,
            "width": null
          }
        },
        "4859c8aa01ca43f39b2290148dee196e": {
          "model_module": "@jupyter-widgets/controls",
          "model_name": "ProgressStyleModel",
          "model_module_version": "1.5.0",
          "state": {
            "_model_module": "@jupyter-widgets/controls",
            "_model_module_version": "1.5.0",
            "_model_name": "ProgressStyleModel",
            "_view_count": null,
            "_view_module": "@jupyter-widgets/base",
            "_view_module_version": "1.2.0",
            "_view_name": "StyleView",
            "bar_color": null,
            "description_width": ""
          }
        },
        "1f867f35853842c78ed0ff8d15fd2202": {
          "model_module": "@jupyter-widgets/base",
          "model_name": "LayoutModel",
          "model_module_version": "1.2.0",
          "state": {
            "_model_module": "@jupyter-widgets/base",
            "_model_module_version": "1.2.0",
            "_model_name": "LayoutModel",
            "_view_count": null,
            "_view_module": "@jupyter-widgets/base",
            "_view_module_version": "1.2.0",
            "_view_name": "LayoutView",
            "align_content": null,
            "align_items": null,
            "align_self": null,
            "border": null,
            "bottom": null,
            "display": null,
            "flex": null,
            "flex_flow": null,
            "grid_area": null,
            "grid_auto_columns": null,
            "grid_auto_flow": null,
            "grid_auto_rows": null,
            "grid_column": null,
            "grid_gap": null,
            "grid_row": null,
            "grid_template_areas": null,
            "grid_template_columns": null,
            "grid_template_rows": null,
            "height": null,
            "justify_content": null,
            "justify_items": null,
            "left": null,
            "margin": null,
            "max_height": null,
            "max_width": null,
            "min_height": null,
            "min_width": null,
            "object_fit": null,
            "object_position": null,
            "order": null,
            "overflow": null,
            "overflow_x": null,
            "overflow_y": null,
            "padding": null,
            "right": null,
            "top": null,
            "visibility": null,
            "width": null
          }
        },
        "3e9fceed98d147968c216182573d94ea": {
          "model_module": "@jupyter-widgets/controls",
          "model_name": "DescriptionStyleModel",
          "model_module_version": "1.5.0",
          "state": {
            "_model_module": "@jupyter-widgets/controls",
            "_model_module_version": "1.5.0",
            "_model_name": "DescriptionStyleModel",
            "_view_count": null,
            "_view_module": "@jupyter-widgets/base",
            "_view_module_version": "1.2.0",
            "_view_name": "StyleView",
            "description_width": ""
          }
        },
        "2c781bfc33b64059a48b6e7240ed79f6": {
          "model_module": "@jupyter-widgets/controls",
          "model_name": "HBoxModel",
          "model_module_version": "1.5.0",
          "state": {
            "_dom_classes": [],
            "_model_module": "@jupyter-widgets/controls",
            "_model_module_version": "1.5.0",
            "_model_name": "HBoxModel",
            "_view_count": null,
            "_view_module": "@jupyter-widgets/controls",
            "_view_module_version": "1.5.0",
            "_view_name": "HBoxView",
            "box_style": "",
            "children": [
              "IPY_MODEL_afbebd9ec04c43f8bee014ee84950322",
              "IPY_MODEL_468102147fdc47ba96ce79ffb8f19742",
              "IPY_MODEL_b9251be814ee4788a3824942681275ba"
            ],
            "layout": "IPY_MODEL_0864dde23d8140dd95a5e2e7f99dc24d"
          }
        },
        "afbebd9ec04c43f8bee014ee84950322": {
          "model_module": "@jupyter-widgets/controls",
          "model_name": "HTMLModel",
          "model_module_version": "1.5.0",
          "state": {
            "_dom_classes": [],
            "_model_module": "@jupyter-widgets/controls",
            "_model_module_version": "1.5.0",
            "_model_name": "HTMLModel",
            "_view_count": null,
            "_view_module": "@jupyter-widgets/controls",
            "_view_module_version": "1.5.0",
            "_view_name": "HTMLView",
            "description": "",
            "description_tooltip": null,
            "layout": "IPY_MODEL_5a614263ab8e4a8e82825ea16b9aa61c",
            "placeholder": "​",
            "style": "IPY_MODEL_9bf6c9ecf27146f59dd7048ebf25f6cf",
            "value": "Downloading (…)olve/main/merges.txt: 100%"
          }
        },
        "468102147fdc47ba96ce79ffb8f19742": {
          "model_module": "@jupyter-widgets/controls",
          "model_name": "FloatProgressModel",
          "model_module_version": "1.5.0",
          "state": {
            "_dom_classes": [],
            "_model_module": "@jupyter-widgets/controls",
            "_model_module_version": "1.5.0",
            "_model_name": "FloatProgressModel",
            "_view_count": null,
            "_view_module": "@jupyter-widgets/controls",
            "_view_module_version": "1.5.0",
            "_view_name": "ProgressView",
            "bar_style": "success",
            "description": "",
            "description_tooltip": null,
            "layout": "IPY_MODEL_56732aeaddff4c4eaef78944be7bf2dd",
            "max": 456318,
            "min": 0,
            "orientation": "horizontal",
            "style": "IPY_MODEL_a9637ee01da04e25a4d8ababe2191609",
            "value": 456318
          }
        },
        "b9251be814ee4788a3824942681275ba": {
          "model_module": "@jupyter-widgets/controls",
          "model_name": "HTMLModel",
          "model_module_version": "1.5.0",
          "state": {
            "_dom_classes": [],
            "_model_module": "@jupyter-widgets/controls",
            "_model_module_version": "1.5.0",
            "_model_name": "HTMLModel",
            "_view_count": null,
            "_view_module": "@jupyter-widgets/controls",
            "_view_module_version": "1.5.0",
            "_view_name": "HTMLView",
            "description": "",
            "description_tooltip": null,
            "layout": "IPY_MODEL_924189898d7445e2984543a0810cddc7",
            "placeholder": "​",
            "style": "IPY_MODEL_9938fee81be54bdeabfcabf9a96af521",
            "value": " 456k/456k [00:00&lt;00:00, 25.2MB/s]"
          }
        },
        "0864dde23d8140dd95a5e2e7f99dc24d": {
          "model_module": "@jupyter-widgets/base",
          "model_name": "LayoutModel",
          "model_module_version": "1.2.0",
          "state": {
            "_model_module": "@jupyter-widgets/base",
            "_model_module_version": "1.2.0",
            "_model_name": "LayoutModel",
            "_view_count": null,
            "_view_module": "@jupyter-widgets/base",
            "_view_module_version": "1.2.0",
            "_view_name": "LayoutView",
            "align_content": null,
            "align_items": null,
            "align_self": null,
            "border": null,
            "bottom": null,
            "display": null,
            "flex": null,
            "flex_flow": null,
            "grid_area": null,
            "grid_auto_columns": null,
            "grid_auto_flow": null,
            "grid_auto_rows": null,
            "grid_column": null,
            "grid_gap": null,
            "grid_row": null,
            "grid_template_areas": null,
            "grid_template_columns": null,
            "grid_template_rows": null,
            "height": null,
            "justify_content": null,
            "justify_items": null,
            "left": null,
            "margin": null,
            "max_height": null,
            "max_width": null,
            "min_height": null,
            "min_width": null,
            "object_fit": null,
            "object_position": null,
            "order": null,
            "overflow": null,
            "overflow_x": null,
            "overflow_y": null,
            "padding": null,
            "right": null,
            "top": null,
            "visibility": null,
            "width": null
          }
        },
        "5a614263ab8e4a8e82825ea16b9aa61c": {
          "model_module": "@jupyter-widgets/base",
          "model_name": "LayoutModel",
          "model_module_version": "1.2.0",
          "state": {
            "_model_module": "@jupyter-widgets/base",
            "_model_module_version": "1.2.0",
            "_model_name": "LayoutModel",
            "_view_count": null,
            "_view_module": "@jupyter-widgets/base",
            "_view_module_version": "1.2.0",
            "_view_name": "LayoutView",
            "align_content": null,
            "align_items": null,
            "align_self": null,
            "border": null,
            "bottom": null,
            "display": null,
            "flex": null,
            "flex_flow": null,
            "grid_area": null,
            "grid_auto_columns": null,
            "grid_auto_flow": null,
            "grid_auto_rows": null,
            "grid_column": null,
            "grid_gap": null,
            "grid_row": null,
            "grid_template_areas": null,
            "grid_template_columns": null,
            "grid_template_rows": null,
            "height": null,
            "justify_content": null,
            "justify_items": null,
            "left": null,
            "margin": null,
            "max_height": null,
            "max_width": null,
            "min_height": null,
            "min_width": null,
            "object_fit": null,
            "object_position": null,
            "order": null,
            "overflow": null,
            "overflow_x": null,
            "overflow_y": null,
            "padding": null,
            "right": null,
            "top": null,
            "visibility": null,
            "width": null
          }
        },
        "9bf6c9ecf27146f59dd7048ebf25f6cf": {
          "model_module": "@jupyter-widgets/controls",
          "model_name": "DescriptionStyleModel",
          "model_module_version": "1.5.0",
          "state": {
            "_model_module": "@jupyter-widgets/controls",
            "_model_module_version": "1.5.0",
            "_model_name": "DescriptionStyleModel",
            "_view_count": null,
            "_view_module": "@jupyter-widgets/base",
            "_view_module_version": "1.2.0",
            "_view_name": "StyleView",
            "description_width": ""
          }
        },
        "56732aeaddff4c4eaef78944be7bf2dd": {
          "model_module": "@jupyter-widgets/base",
          "model_name": "LayoutModel",
          "model_module_version": "1.2.0",
          "state": {
            "_model_module": "@jupyter-widgets/base",
            "_model_module_version": "1.2.0",
            "_model_name": "LayoutModel",
            "_view_count": null,
            "_view_module": "@jupyter-widgets/base",
            "_view_module_version": "1.2.0",
            "_view_name": "LayoutView",
            "align_content": null,
            "align_items": null,
            "align_self": null,
            "border": null,
            "bottom": null,
            "display": null,
            "flex": null,
            "flex_flow": null,
            "grid_area": null,
            "grid_auto_columns": null,
            "grid_auto_flow": null,
            "grid_auto_rows": null,
            "grid_column": null,
            "grid_gap": null,
            "grid_row": null,
            "grid_template_areas": null,
            "grid_template_columns": null,
            "grid_template_rows": null,
            "height": null,
            "justify_content": null,
            "justify_items": null,
            "left": null,
            "margin": null,
            "max_height": null,
            "max_width": null,
            "min_height": null,
            "min_width": null,
            "object_fit": null,
            "object_position": null,
            "order": null,
            "overflow": null,
            "overflow_x": null,
            "overflow_y": null,
            "padding": null,
            "right": null,
            "top": null,
            "visibility": null,
            "width": null
          }
        },
        "a9637ee01da04e25a4d8ababe2191609": {
          "model_module": "@jupyter-widgets/controls",
          "model_name": "ProgressStyleModel",
          "model_module_version": "1.5.0",
          "state": {
            "_model_module": "@jupyter-widgets/controls",
            "_model_module_version": "1.5.0",
            "_model_name": "ProgressStyleModel",
            "_view_count": null,
            "_view_module": "@jupyter-widgets/base",
            "_view_module_version": "1.2.0",
            "_view_name": "StyleView",
            "bar_color": null,
            "description_width": ""
          }
        },
        "924189898d7445e2984543a0810cddc7": {
          "model_module": "@jupyter-widgets/base",
          "model_name": "LayoutModel",
          "model_module_version": "1.2.0",
          "state": {
            "_model_module": "@jupyter-widgets/base",
            "_model_module_version": "1.2.0",
            "_model_name": "LayoutModel",
            "_view_count": null,
            "_view_module": "@jupyter-widgets/base",
            "_view_module_version": "1.2.0",
            "_view_name": "LayoutView",
            "align_content": null,
            "align_items": null,
            "align_self": null,
            "border": null,
            "bottom": null,
            "display": null,
            "flex": null,
            "flex_flow": null,
            "grid_area": null,
            "grid_auto_columns": null,
            "grid_auto_flow": null,
            "grid_auto_rows": null,
            "grid_column": null,
            "grid_gap": null,
            "grid_row": null,
            "grid_template_areas": null,
            "grid_template_columns": null,
            "grid_template_rows": null,
            "height": null,
            "justify_content": null,
            "justify_items": null,
            "left": null,
            "margin": null,
            "max_height": null,
            "max_width": null,
            "min_height": null,
            "min_width": null,
            "object_fit": null,
            "object_position": null,
            "order": null,
            "overflow": null,
            "overflow_x": null,
            "overflow_y": null,
            "padding": null,
            "right": null,
            "top": null,
            "visibility": null,
            "width": null
          }
        },
        "9938fee81be54bdeabfcabf9a96af521": {
          "model_module": "@jupyter-widgets/controls",
          "model_name": "DescriptionStyleModel",
          "model_module_version": "1.5.0",
          "state": {
            "_model_module": "@jupyter-widgets/controls",
            "_model_module_version": "1.5.0",
            "_model_name": "DescriptionStyleModel",
            "_view_count": null,
            "_view_module": "@jupyter-widgets/base",
            "_view_module_version": "1.2.0",
            "_view_name": "StyleView",
            "description_width": ""
          }
        }
      }
    }
  },
  "cells": [
    {
      "cell_type": "markdown",
      "source": [
        "# MNLP class Homework 2: Coarse-Grained WSD\n",
        "##Notebook used for model training, evaluation and testing\n",
        "###Ludovico Comito Matr. 1837155"
      ],
      "metadata": {
        "id": "SgCCjWAR-yMh"
      }
    },
    {
      "cell_type": "markdown",
      "source": [
        "## Google Drive mounting and libraries imports"
      ],
      "metadata": {
        "id": "mIvR_ztK-5ZI"
      }
    },
    {
      "cell_type": "markdown",
      "source": [
        "Install libraries"
      ],
      "metadata": {
        "id": "kfCB0nfj_Aa6"
      }
    },
    {
      "cell_type": "code",
      "source": [
        "!pip install transformers lightning wandb evaluate --quiet"
      ],
      "metadata": {
        "id": "-wqpOrdz-5KT"
      },
      "execution_count": null,
      "outputs": []
    },
    {
      "cell_type": "markdown",
      "source": [
        "Import libraries.\n",
        "_Notice:_ this project is based on the Pytorch Lightning framework."
      ],
      "metadata": {
        "id": "X137pkxf_J6Q"
      }
    },
    {
      "cell_type": "code",
      "source": [
        "import torch\n",
        "import torch.nn as nn\n",
        "import torch.optim as optim\n",
        "from torch.utils.data import DataLoader, random_split, Dataset\n",
        "\n",
        "import transformers\n",
        "from transformers import AutoTokenizer, AutoModel\n",
        "from transformers import get_linear_schedule_with_warmup\n",
        "\n",
        "import evaluate\n",
        "import wandb\n",
        "\n",
        "import lightning.pytorch as pl\n",
        "from lightning.pytorch.callbacks import ModelCheckpoint\n",
        "\n",
        "import pandas as pd\n",
        "import numpy as np\n",
        "import os\n",
        "import json\n",
        "import random"
      ],
      "metadata": {
        "id": "J2kRBy8c_CTK"
      },
      "execution_count": 3,
      "outputs": []
    },
    {
      "cell_type": "code",
      "source": [
        "from google.colab import drive\n",
        "drive.mount('/content/drive', force_remount=True)"
      ],
      "metadata": {
        "id": "6dHridxk_cxI"
      },
      "execution_count": null,
      "outputs": []
    },
    {
      "cell_type": "markdown",
      "source": [
        "Here are defined all the hyperparameters and parameters for this project:"
      ],
      "metadata": {
        "id": "EurTf2k7_vOD"
      }
    },
    {
      "cell_type": "code",
      "source": [
        "parameters_dict = {\n",
        "  'num_epochs':100,\n",
        "  'batch_size':32,\n",
        "  'padding_length':150,\n",
        "  'transformer_name':'microsoft/deberta-base', # specify the transformer to be used from the HuggingFace library.\n",
        "  'learning_rate':0.01,\n",
        "  'num_warmup_steps':5, # the number of warmup steps for the lr scheduler\n",
        "  'run_name':'deberta-base', # sets the run name on W&B\n",
        "  'debug_mode':True, # switch to False to enable logging\n",
        "  'checkpoint_dir':'/content/drive/MyDrive/mnlp_homework_2/checkpoints',\n",
        "}"
      ],
      "metadata": {
        "id": "0eLfPqt9_jCu"
      },
      "execution_count": 5,
      "outputs": []
    },
    {
      "cell_type": "markdown",
      "source": [
        "### Init Weights and Biases"
      ],
      "metadata": {
        "id": "lAz5xx69AVbm"
      }
    },
    {
      "cell_type": "code",
      "source": [
        "!wandb login"
      ],
      "metadata": {
        "id": "MqORhbZXATfV"
      },
      "execution_count": null,
      "outputs": []
    },
    {
      "cell_type": "code",
      "source": [
        "# start a new wandb run if not in debug mode\n",
        "if not parameters_dict['debug_mode']:\n",
        "  wandb.init(\n",
        "      # set the wandb project where this run will be logged\n",
        "      project='mnlp_homework_2',\n",
        "      name = parameters_dict['run_name'],\n",
        "      config=parameters_dict,\n",
        "      entity='ludocomito'\n",
        "  )"
      ],
      "metadata": {
        "id": "ilQetrppAb3z"
      },
      "execution_count": null,
      "outputs": []
    },
    {
      "cell_type": "markdown",
      "source": [
        "## Preparing the dataset"
      ],
      "metadata": {
        "id": "w68oaOQGAtFg"
      }
    },
    {
      "cell_type": "code",
      "source": [
        "# Read dataframes from source\n",
        "train_df = pd.read_json('/content/drive/MyDrive/mnlp_homework_2/Datasets/coarse-grained/train_coarse_grained.json')\n",
        "val_df = pd.read_json('/content/drive/MyDrive/mnlp_homework_2/Datasets/coarse-grained/val_coarse_grained.json')\n",
        "test_df = pd.read_json('/content/drive/MyDrive/mnlp_homework_2/Datasets/coarse-grained/test_coarse_grained.json')"
      ],
      "metadata": {
        "id": "c2V6lMajAlh4"
      },
      "execution_count": 6,
      "outputs": []
    },
    {
      "cell_type": "code",
      "source": [
        "# Collect all the coarse-grained senses from the mapping file\n",
        "mapping_file = open('/content/drive/MyDrive/mnlp_homework_2/Datasets/coarse_fine_defs_map.json')\n",
        "\n",
        "data = json.load(mapping_file)\n",
        "\n",
        "# Iterating through the json\n",
        "senses_list = []\n",
        "for sense in data:\n",
        "  senses_list.append(sense)\n",
        "\n",
        "mapping_file.close()\n",
        "\n",
        "num_senses = len(senses_list)\n",
        "print(f'There are {num_senses} total senses')"
      ],
      "metadata": {
        "id": "NSbXjPVfAwtA"
      },
      "execution_count": null,
      "outputs": []
    },
    {
      "cell_type": "code",
      "source": [
        "def index_senses(senses_list):\n",
        "  '''\n",
        "  Assigns an index to each individual sense by creating the sense2idx and idx2sense dictionaries.\n",
        "  Moreover, it returns the total number of individual senses.\n",
        "  Args:\n",
        "    senses_list: a list of lists of dictionaries which maps tokens to their senses.\n",
        "  '''\n",
        "  sense2idx = {}\n",
        "  padding_token = '<PAD>'\n",
        "  sense2idx[padding_token] = 0\n",
        "\n",
        "  index = 1\n",
        "\n",
        "  for sense in senses_list:\n",
        "    if sense not in sense2idx:\n",
        "      sense2idx[sense] = index\n",
        "      index = index + 1\n",
        "    else:\n",
        "      raise Exception(\"There are duplicates in the mapping file!\")\n",
        "\n",
        "  idx2sense =  {value: key for key, value in sense2idx.items()}\n",
        "\n",
        "  return sense2idx, idx2sense, index\n"
      ],
      "metadata": {
        "id": "Y8_s7cc_A9ce"
      },
      "execution_count": 8,
      "outputs": []
    },
    {
      "cell_type": "code",
      "source": [
        "# Index senses and get the number of total senses.\n",
        "sense2idx, idx2sense, num_senses = index_senses(senses_list)"
      ],
      "metadata": {
        "id": "Cau0RxqsCCFe"
      },
      "execution_count": 9,
      "outputs": []
    },
    {
      "cell_type": "markdown",
      "source": [
        "### Retrieve train, validation and test data from the datasets."
      ],
      "metadata": {
        "id": "XLsSBgDWDBqZ"
      }
    },
    {
      "cell_type": "code",
      "source": [
        "def process_dataframe(df):\n",
        "  '''\n",
        "  Given the raw dataframe, returns the sentences, sentences, candidates and target words associated to it.\n",
        "  Target words are simply a list of lists, where each element is the index of the words to disambiguate.\n",
        "  Args:\n",
        "    df: a raw dataframe from the original json dataset.\n",
        "  '''\n",
        "  sentences_list = []\n",
        "  senses_list = []\n",
        "  candidates_list = []\n",
        "  target_words = []\n",
        "\n",
        "  for elem in df:\n",
        "    data = df[elem]\n",
        "    sentences_list.append(data['words'])\n",
        "    senses_list.append(data['senses'])\n",
        "    candidates = data['candidates']\n",
        "    candidates_list.append(candidates)\n",
        "    targets = []\n",
        "    for idx in candidates.keys():\n",
        "      targets.append(int(idx))\n",
        "    target_words.append(targets)\n",
        "\n",
        "\n",
        "  return {'sentences_list': sentences_list, 'senses_list': senses_list, 'candidates_list': candidates_list, 'target_words':target_words}"
      ],
      "metadata": {
        "id": "uxY-CTOkCjbh"
      },
      "execution_count": 10,
      "outputs": []
    },
    {
      "cell_type": "code",
      "source": [
        "train_data = process_dataframe(train_df)\n",
        "\n",
        "train_sentences_list = train_data['sentences_list']\n",
        "train_senses_list = train_data['senses_list']\n",
        "train_candidates_list = train_data['candidates_list']\n",
        "train_target_words = train_data['target_words']"
      ],
      "metadata": {
        "id": "ZYTYMomWCkxb"
      },
      "execution_count": 11,
      "outputs": []
    },
    {
      "cell_type": "code",
      "source": [
        "val_data = process_dataframe(val_df)\n",
        "\n",
        "val_sentences_list = val_data['sentences_list']\n",
        "val_senses_list = val_data['senses_list']\n",
        "val_candidates_list = val_data['candidates_list']\n",
        "val_target_words = val_data['target_words']"
      ],
      "metadata": {
        "id": "A5V_-4DHDMLZ"
      },
      "execution_count": 12,
      "outputs": []
    },
    {
      "cell_type": "code",
      "source": [
        "test_data = process_dataframe(test_df)\n",
        "\n",
        "test_sentences_list = test_data['sentences_list']\n",
        "test_senses_list = test_data['senses_list']\n",
        "test_candidates_list = test_data['candidates_list']\n",
        "test_target_words = test_data['target_words']"
      ],
      "metadata": {
        "id": "vk3uw7uNDOcc"
      },
      "execution_count": 13,
      "outputs": []
    },
    {
      "cell_type": "markdown",
      "source": [
        "### Data tokenization"
      ],
      "metadata": {
        "id": "eRpJ5tV9DQ1i"
      }
    },
    {
      "cell_type": "code",
      "source": [
        "# Initialize the tokenizer for HuggingFace\n",
        "tokenizer = AutoTokenizer.from_pretrained(parameters_dict['transformer_name'], add_prefix_space=True)"
      ],
      "metadata": {
        "id": "qqKDR3fYCQ63",
        "colab": {
          "base_uri": "https://localhost:8080/",
          "height": 145,
          "referenced_widgets": [
            "e20d7811ffc2408d86c9823d3326a79c",
            "9f3cbc898f38496b97f3b3b5001e67ea",
            "451bd26fc2334fccbfafca46f1d57f71",
            "87d2df697b3640b28ad116e70cbc116f",
            "c90f0a2357a246ea87fef7f4a86f2a7e",
            "ecf8bbe446be412f81208368cf6f01e9",
            "93bdf06337c84fae8509bfe7c792ba10",
            "0f3663ca05fe41c7813b3da67a0fc398",
            "340320c9881c4428aeef411e6dd041ab",
            "5cc513ff1bcb4c4282fd5568e2ebc863",
            "e567ca33ef254dad9de08c37f10a18f9",
            "8c8c767bfa794a4e9aa4de70cd75219b",
            "c37eb76bde16445abf6aff3ac924d748",
            "883ba3d6d05145639bd020147cd9cf1c",
            "1062a28b5816477f8047ffb8204ae67e",
            "70bac1f92b124b39b0e7d63251b5b77a",
            "f7ffe0382aab4df8a97cd00b47e3d910",
            "a33b9b9c9a9a40ecbc1bc1222ce07dda",
            "2eeaf1bf90c44f7ca37e93673ad3afb4",
            "aafb3bd101d642829c1e6b1ad1f69b71",
            "24cafc7d07d14452a9669464001c494b",
            "370561b778f1436ba58ba173fbe8eadc",
            "347afc947df94f01be1d6d0b22bdbfcd",
            "8bbd7ed81c1647ecaef3d235c7c303a8",
            "3747b62b5bf8475197c40cb92943b6b0",
            "f81b00dcf749482e979be9caf7f051ef",
            "721ac514624e4de0810962bb1bb33ff6",
            "0cf3370c88934a709ff73019cb1791b7",
            "a5a79fa2799c4f91b4eb2d8288684c02",
            "83da57742c8e4c2c811b08d67b3f63ff",
            "4859c8aa01ca43f39b2290148dee196e",
            "1f867f35853842c78ed0ff8d15fd2202",
            "3e9fceed98d147968c216182573d94ea",
            "2c781bfc33b64059a48b6e7240ed79f6",
            "afbebd9ec04c43f8bee014ee84950322",
            "468102147fdc47ba96ce79ffb8f19742",
            "b9251be814ee4788a3824942681275ba",
            "0864dde23d8140dd95a5e2e7f99dc24d",
            "5a614263ab8e4a8e82825ea16b9aa61c",
            "9bf6c9ecf27146f59dd7048ebf25f6cf",
            "56732aeaddff4c4eaef78944be7bf2dd",
            "a9637ee01da04e25a4d8ababe2191609",
            "924189898d7445e2984543a0810cddc7",
            "9938fee81be54bdeabfcabf9a96af521"
          ]
        },
        "outputId": "62e29429-8e58-4a08-d7f1-9d1ce768f099"
      },
      "execution_count": 14,
      "outputs": [
        {
          "output_type": "display_data",
          "data": {
            "text/plain": [
              "Downloading (…)okenizer_config.json:   0%|          | 0.00/52.0 [00:00<?, ?B/s]"
            ],
            "application/vnd.jupyter.widget-view+json": {
              "version_major": 2,
              "version_minor": 0,
              "model_id": "e20d7811ffc2408d86c9823d3326a79c"
            }
          },
          "metadata": {}
        },
        {
          "output_type": "display_data",
          "data": {
            "text/plain": [
              "Downloading (…)lve/main/config.json:   0%|          | 0.00/474 [00:00<?, ?B/s]"
            ],
            "application/vnd.jupyter.widget-view+json": {
              "version_major": 2,
              "version_minor": 0,
              "model_id": "8c8c767bfa794a4e9aa4de70cd75219b"
            }
          },
          "metadata": {}
        },
        {
          "output_type": "display_data",
          "data": {
            "text/plain": [
              "Downloading (…)olve/main/vocab.json:   0%|          | 0.00/899k [00:00<?, ?B/s]"
            ],
            "application/vnd.jupyter.widget-view+json": {
              "version_major": 2,
              "version_minor": 0,
              "model_id": "347afc947df94f01be1d6d0b22bdbfcd"
            }
          },
          "metadata": {}
        },
        {
          "output_type": "display_data",
          "data": {
            "text/plain": [
              "Downloading (…)olve/main/merges.txt:   0%|          | 0.00/456k [00:00<?, ?B/s]"
            ],
            "application/vnd.jupyter.widget-view+json": {
              "version_major": 2,
              "version_minor": 0,
              "model_id": "2c781bfc33b64059a48b6e7240ed79f6"
            }
          },
          "metadata": {}
        }
      ]
    },
    {
      "cell_type": "markdown",
      "source": [
        "All the sentences are tokenized a priori in order to reduce the overhead while trainig."
      ],
      "metadata": {
        "id": "bhjBGZXwDZJG"
      }
    },
    {
      "cell_type": "code",
      "source": [
        "tokenized_training = tokenizer(train_sentences_list,\n",
        "                               return_tensors='pt',\n",
        "                               padding='max_length',\n",
        "                               max_length=parameters_dict['padding_length'],\n",
        "                               truncation=True,\n",
        "                               is_split_into_words=True)\n",
        "\n",
        "tokenized_val = tokenizer(val_sentences_list,\n",
        "                          return_tensors='pt',\n",
        "                          padding='max_length',\n",
        "                          max_length=parameters_dict['padding_length'],\n",
        "                          truncation=True,\n",
        "                          is_split_into_words=True)\n",
        "\n",
        "tokenized_test = tokenizer(test_sentences_list,\n",
        "                           return_tensors='pt',\n",
        "                           padding='max_length',\n",
        "                           max_length=parameters_dict['padding_length'],\n",
        "                           truncation=True,\n",
        "                           is_split_into_words=True)"
      ],
      "metadata": {
        "id": "IMbSAgIdCXj_"
      },
      "execution_count": 15,
      "outputs": []
    },
    {
      "cell_type": "markdown",
      "source": [
        "###Retrieve word_ids for all sentences\n",
        "For transformers like bert-base-uncased, during tokenization words are split in sub-words tokens. This means that when assigning the labels, we want to keep track of a mapping between the sub-tokens and the words they belong to. Fortunately, the HuggingFace's tokenizer class keeps track of the mapping between sub-tokens and words inside the word_ids property."
      ],
      "metadata": {
        "id": "4FhWXybwDs3Y"
      }
    },
    {
      "cell_type": "code",
      "source": [
        "training_word_ids = [\n",
        "tokenized_training[i].word_ids\n",
        "for i in range(len(tokenized_training[\"input_ids\"]))\n",
        "]\n",
        "\n",
        "val_word_ids = [\n",
        "tokenized_val[i].word_ids\n",
        "for i in range(len(tokenized_val[\"input_ids\"]))\n",
        "]\n",
        "\n",
        "test_word_ids = [\n",
        "tokenized_test[i].word_ids\n",
        "for i in range(len(tokenized_test[\"input_ids\"]))\n",
        "]"
      ],
      "metadata": {
        "id": "3Af4JV7VDgQT"
      },
      "execution_count": 16,
      "outputs": []
    },
    {
      "cell_type": "code",
      "source": [
        "def pad_target_words(lists, padding_length):\n",
        "  '''\n",
        "  Creates padding for target words list.\n",
        "  Args:\n",
        "    lists: the list of lists of target words.\n",
        "    padding_length: the desired padding length.\n",
        "  '''\n",
        "  max_length = padding_length\n",
        "  padded_lists = [torch.tensor(inner_list + [-1] * (max_length - len(inner_list))) for inner_list in lists]\n",
        "  return padded_lists"
      ],
      "metadata": {
        "id": "1Ixm_rxzI7nB"
      },
      "execution_count": 17,
      "outputs": []
    },
    {
      "cell_type": "code",
      "source": [
        "train_target_words = pad_target_words(train_target_words, parameters_dict['padding_length'])\n",
        "val_target_words = pad_target_words(val_target_words, parameters_dict['padding_length'])\n",
        "test_target_words = pad_target_words(test_target_words, parameters_dict['padding_length'])"
      ],
      "metadata": {
        "id": "G94swEuBVejK"
      },
      "execution_count": 18,
      "outputs": []
    },
    {
      "cell_type": "markdown",
      "source": [
        "## Create labels and logits_mask"
      ],
      "metadata": {
        "id": "NlaiKtLnF-l1"
      }
    },
    {
      "cell_type": "markdown",
      "source": [
        "The following function implements one of the key concepts of this project. In this task we basically have to classify the correct sense among a huge collection of possible senses. Actually, we are given also a list of candidates of possible candidate senses for each word with a sense. This will be used in order to narrow the senses to confront with when computing the loss.<br> The practical implementation is achieved by creating a logits mask. <br>Each logits mask has length equal to all possible senses and is initialized to all zeros. Each entry of this list corresponds to the index of a sense, and only the associated candidates will have their values set to 1. We will use this mask to mask out the returned logits from our model."
      ],
      "metadata": {
        "id": "edfDlHVZGDWt"
      }
    },
    {
      "cell_type": "code",
      "source": [
        "def create_labels_and_mask(current_sentence, sentence_labels, sentence_candidates, sense2idx, padding_length):\n",
        "  '''\n",
        "  Given a sentence returns its corresponding labels list and logits mask.\n",
        "  Args:\n",
        "    current_sentence: the sentence expressed as a list of tokenized words.\n",
        "    sentence_labels: the labels associated to that sentence in the form of a dict.\n",
        "    sentence_candidates: the sentence candidates in the form of a dict.\n",
        "    sense2idx: the dictionary which indexes senses.\n",
        "    padding_length: the desired padding length.\n",
        "  '''\n",
        "  sentence_len = len(current_sentence)\n",
        "  num_senses = len(sense2idx)\n",
        "\n",
        "\n",
        "  if sentence_len > padding_length:\n",
        "      current_sentence = current_sentence[:padding_length]\n",
        "      sentence_len = padding_length\n",
        "\n",
        "\n",
        "  labels = torch.zeros(padding_length, dtype=torch.int32)  # Pad labels\n",
        "  logits_mask = torch.zeros([padding_length, num_senses], dtype=torch.int32)  # Pad logits\n",
        "\n",
        "  for word_index in range(sentence_len): # Create mask\n",
        "      if str(word_index) in sentence_labels and word_index < padding_length:\n",
        "          labels[word_index] = sense2idx[sentence_labels[str(word_index)][0]]\n",
        "\n",
        "          word_candidate_senses = sentence_candidates[str(word_index)]\n",
        "          for candidate in word_candidate_senses:\n",
        "              sense_index = sense2idx[candidate]\n",
        "              logits_mask[word_index][sense_index] = 1\n",
        "\n",
        "  return labels, logits_mask\n"
      ],
      "metadata": {
        "id": "9bCNWQ9gEzA_"
      },
      "execution_count": 19,
      "outputs": []
    },
    {
      "cell_type": "code",
      "source": [
        "def replace_all_occurrences(input_list, old_value, new_value):\n",
        "  '''\n",
        "  Utility function to replace all occurrencies of a certain value (old_value)\n",
        "  with a specificed new_value in the input_list.\n",
        "  '''\n",
        "  return [new_value if item == old_value else item for item in input_list]"
      ],
      "metadata": {
        "id": "QpNfDNf_B0HI"
      },
      "execution_count": 20,
      "outputs": []
    },
    {
      "cell_type": "code",
      "source": [
        "class HomonymyDataset(Dataset):\n",
        "  '''\n",
        "  The dataset class used for train, val and test. Returns batches of tokenized sentences\n",
        "  together with their processed labels, target words and logits masks.\n",
        "  Args:\n",
        "    sentences: list of lists of tokenized sentences.\n",
        "    senses: list of dicts of senses.\n",
        "    candidates: list of dicts of candidates.\n",
        "  '''\n",
        "  def __init__(self, sentences, senses, candidates, sense2idx, idx2sense, num_senses,\n",
        "               tokenized_sentences, attention_masks, word_ids, target_words, padding_length):\n",
        "    self.sentences = sentences\n",
        "    self.candidates = candidates\n",
        "    self.senses = senses\n",
        "    self.sense2idx = sense2idx\n",
        "    self.idx2sense = idx2sense\n",
        "    self.num_senses = num_senses\n",
        "\n",
        "    self.tokenized_sentences = tokenized_sentences\n",
        "    self.attention_masks = attention_masks\n",
        "\n",
        "    self.word_ids = word_ids\n",
        "    self.padding_length = padding_length\n",
        "    self.target_words = target_words\n",
        "\n",
        "  def __getitem__(self, index):\n",
        "    current_sentence = self.sentences[index]\n",
        "    current_senses = self.senses[index]\n",
        "    current_candidates = self.candidates[index]\n",
        "    target_words = self.target_words[index]\n",
        "    tokens = self.tokenized_sentences[index]\n",
        "    attention_mask = self.attention_masks[index]\n",
        "    word_ids = self.word_ids[index]\n",
        "\n",
        "    labels, logits_mask = create_labels_and_mask(current_sentence, current_senses, current_candidates, self.sense2idx, self.padding_length)\n",
        "\n",
        "    word_ids_updated = torch.Tensor(replace_all_occurrences(word_ids, None, -1)) #replaces all None occurrencies with the special index -1\n",
        "\n",
        "    return {'tokenized_sentences': tokens, 'attention_masks': attention_mask,'labels': labels, 'logits_mask': logits_mask,\n",
        "            'word_ids': word_ids_updated, 'sentence_length':len(current_sentence), 'target_words':target_words}\n",
        "\n",
        "  def __len__(self):\n",
        "    return len(self.sentences)\n",
        "\n"
      ],
      "metadata": {
        "id": "oHpXO85ECBUO"
      },
      "execution_count": 21,
      "outputs": []
    },
    {
      "cell_type": "markdown",
      "source": [
        "## Model definition"
      ],
      "metadata": {
        "id": "ih5kaOZbDVEE"
      }
    },
    {
      "cell_type": "markdown",
      "source": [
        "The classifier's architecture is constituted by two fundamental modules:\n",
        "*   The *transformer module*, which is derived from HuggingFace AutoModel library is used to create the embeddings for the input tokens.\n",
        "*   The *classification head*, an MLP module which takes as input the generated embeddings and outputs the final logits.\n",
        "\n",
        "Although the implementation might seem substantially simple, there are a few tricks to notice:\n",
        "\n",
        "\n",
        "*   Instead of considering just the embeddings at the last hidden layer, the average of the last four hidden layer is taken. This has proven to improve the model's perfomance in many cases, including this task (look at the experimental data in the report).\n",
        "*   The encoder takes as input sub-word level tokens. In order to keep track of the embeddings for the entire word, the word_ids for each sentence are used to take the compute the average embeddings of the sub-words for each words.\n",
        "*   In order to better fine-tune the model, only the last four hidden layers of the transformers are unfrozen, in order to leverage the low level knowledge which is already embedded in pre-trained BERT-like models.\n",
        "\n",
        "\n",
        "\n",
        "\n",
        "\n"
      ],
      "metadata": {
        "id": "RLKrflTgEdPa"
      }
    },
    {
      "cell_type": "code",
      "source": [
        "def find_indices(word_ids):\n",
        "  '''\n",
        "  Given the word_ids of a certain sentence, it creates a dict which maps each full word index\n",
        "  to the indexes of it's sub-tokens. Ex: if word_ids=[0,1,1,2], the output will be {0: [0], 1: [1, 2], 2: [3]}\n",
        "  Args:\n",
        "    word_ids: the word_ids list for a certain sentence.\n",
        "  '''\n",
        "  idx_dict = {}\n",
        "  for i in range(len(word_ids)):\n",
        "    elem = word_ids[i].item()\n",
        "    if elem != -1: # filters padding\n",
        "      if elem not in idx_dict:\n",
        "        idx_dict[elem] = [i]\n",
        "      else:\n",
        "        idx_dict[elem].append(i)\n",
        "  return idx_dict"
      ],
      "metadata": {
        "id": "VX4ilfkII-rq"
      },
      "execution_count": 22,
      "outputs": []
    },
    {
      "cell_type": "code",
      "source": [
        "class HomonymyAverage(nn.Module):\n",
        "  def __init__(self, transformer_name, num_classes, padding_length):\n",
        "    super(HomonymyAverage, self).__init__()\n",
        "\n",
        "    self.transformer_model = AutoModel.from_pretrained(transformer_name,output_hidden_states=True)\n",
        "    self.padding_length = padding_length\n",
        "\n",
        "    # Unfreeze the last four hidden layers\n",
        "    for name, param in self.transformer_model.named_parameters():\n",
        "      if 'layer.8' in name or 'layer.9' in name or 'layer.10' in name or 'layer.11' in name:\n",
        "          param.requires_grad = True\n",
        "      else:\n",
        "          param.requires_grad = False\n",
        "\n",
        "    # Get the size of transformer's embedding\n",
        "    self.hidden_size = self.transformer_model.config.hidden_size\n",
        "\n",
        "    # The final classifier head\n",
        "    self.MLP = nn.Sequential(\n",
        "      nn.Dropout(0.2),  # Adding dropout for regularization\n",
        "      nn.Linear(self.hidden_size, num_classes),\n",
        "    )\n",
        "\n",
        "    self.device = torch.device(\"cuda\" if torch.cuda.is_available() else \"cpu\")\n",
        "\n",
        "  def forward(self, tokenized_input, attention_mask, word_ids, target_words):\n",
        "        encoded_input = self.transformer_model(input_ids=tokenized_input, attention_mask=attention_mask)\n",
        "        hidden_states = encoded_input['hidden_states']\n",
        "\n",
        "        # Average the last four hidden states\n",
        "        last_four_layers = torch.stack(hidden_states[-4:], dim=0)\n",
        "        hidden_states = torch.mean(last_four_layers, dim=0)\n",
        "\n",
        "        # Operation 1: Average embeddings for interesting words\n",
        "        averaged_embeddings = [] # this will contain the averaged embeddings of the subtokens for each word\n",
        "\n",
        "        total_idxs = []\n",
        "\n",
        "        # map indexes for each sentence in batch using the find_indices function\n",
        "        for elem in word_ids:\n",
        "          total_idxs.append(find_indices(elem))\n",
        "\n",
        "        sentences_embeddings = []\n",
        "\n",
        "        # averages the embeddings for each sub-word in a word, to create word embeddings.\n",
        "        for i in range(len(total_idxs)):\n",
        "          idx_dict = total_idxs[i]\n",
        "          averaged_embeddings = [] # sub-token embeddings for each word are appended\n",
        "\n",
        "          for key in idx_dict.keys():\n",
        "            word_token_embeddings = []\n",
        "            word_subtokens_idxs = idx_dict[key]\n",
        "\n",
        "            # collect all the hidden states for current word subtokens\n",
        "            for subtoken_idx in word_subtokens_idxs:\n",
        "              subtoken_embedding = hidden_states[i][subtoken_idx]\n",
        "              word_token_embeddings.append(subtoken_embedding)\n",
        "\n",
        "            # stack the embeddings and append their mean to the averaged_embeddings list\n",
        "            word_token_embeddings = torch.stack(word_token_embeddings).to(self.device)\n",
        "            averaged_embeddings.append(torch.mean(word_token_embeddings, dim=0).to(self.device)) # appends the average for the tokens\n",
        "\n",
        "          # Pads the new generated embeddings\n",
        "          for i in range (self.padding_length - len(averaged_embeddings)):\n",
        "            averaged_embeddings.append(torch.zeros(self.hidden_size).to(self.device))\n",
        "          sentences_embeddings.append(torch.stack(averaged_embeddings))\n",
        "        sentences_embeddings = torch.stack(sentences_embeddings)\n",
        "\n",
        "        logits = self.MLP(sentences_embeddings)\n",
        "\n",
        "        return logits"
      ],
      "metadata": {
        "id": "xKugToCNDQxH"
      },
      "execution_count": 40,
      "outputs": []
    },
    {
      "cell_type": "markdown",
      "source": [
        "## Lightning datamodule"
      ],
      "metadata": {
        "id": "5HWQzqQ4LhE5"
      }
    },
    {
      "cell_type": "code",
      "source": [
        "class HomonymyDataModule(pl.LightningDataModule):\n",
        "    def __init__(self,\n",
        "                 train_sentences_list, train_senses_list, train_candidates_list, tokenized_training, training_attention_mask, training_word_ids, train_target_words,\n",
        "                 test_sentences_list, test_senses_list, test_candidates_list, tokenized_test, test_attention_mask,test_word_ids, test_target_words,\n",
        "                 val_sentences_list, val_senses_list, val_candidates_list, tokenized_val, val_attention_mask ,val_word_ids, val_target_words,\n",
        "                 tokenizer, sense2idx, idx2sense, batch_size, num_senses, padding_length):\n",
        "      super().__init__()\n",
        "\n",
        "      self.train_sentences_list = train_sentences_list\n",
        "      self.train_senses_list = train_senses_list\n",
        "      self.train_candidates_list = train_candidates_list\n",
        "      self.tokenized_training = tokenized_training\n",
        "      self.training_attention_mask = training_attention_mask\n",
        "      self.training_word_ids = training_word_ids\n",
        "      self.train_target_words = train_target_words\n",
        "\n",
        "      self.test_sentences_list = test_sentences_list\n",
        "      self.test_senses_list = test_senses_list\n",
        "      self.test_candidates_list = test_candidates_list\n",
        "      self.tokenized_test = tokenized_test\n",
        "      self.test_attention_mask = test_attention_mask\n",
        "      self.test_word_ids = test_word_ids\n",
        "      self.test_target_words = test_target_words\n",
        "\n",
        "      self.val_sentences_list = val_sentences_list\n",
        "      self.val_senses_list = val_senses_list\n",
        "      self.val_candidates_list = val_candidates_list\n",
        "      self.tokenized_val = tokenized_val\n",
        "      self.val_attention_mask = val_attention_mask\n",
        "      self.val_word_ids = val_word_ids\n",
        "      self.val_target_words = val_target_words\n",
        "\n",
        "      self.tokenizer = tokenizer\n",
        "      self.sense2idx = sense2idx\n",
        "      self.idx2sense = idx2sense\n",
        "      self.batch_size = batch_size\n",
        "      self.num_senses = num_senses\n",
        "      self.padding_length = padding_length\n",
        "\n",
        "    def setup(self, stage: str):\n",
        "      self.train_dataset = HomonymyDataset(self.train_sentences_list, self.train_senses_list, self.train_candidates_list,\n",
        "                                           self.sense2idx, self.idx2sense, self.num_senses,\n",
        "                                           self.tokenized_training, self.training_attention_mask,self.training_word_ids, self.train_target_words, self.padding_length)\n",
        "\n",
        "      self.test_dataset = HomonymyDataset(self.test_sentences_list, self.test_senses_list, self.test_candidates_list,\n",
        "                                          self.sense2idx, self.idx2sense, self.num_senses,\n",
        "                                          self.tokenized_test, self.test_attention_mask,self.test_word_ids, self.test_target_words, self.padding_length)\n",
        "\n",
        "      self.val_dataset = HomonymyDataset(self.val_sentences_list, self.val_senses_list, self.val_candidates_list,\n",
        "                                         self.sense2idx, self.idx2sense, self.num_senses,\n",
        "                                         self.tokenized_val, self.val_attention_mask,self.val_word_ids, self.val_target_words, self.padding_length)\n",
        "\n",
        "    def train_dataloader(self):\n",
        "      return DataLoader(self.train_dataset, batch_size=self.batch_size, shuffle=True, num_workers=4)\n",
        "\n",
        "    def val_dataloader(self):\n",
        "      return DataLoader(self.val_dataset, batch_size=self.batch_size, shuffle=False, num_workers=4)\n",
        "\n",
        "    def test_dataloader(self):\n",
        "      return DataLoader(self.test_dataset, batch_size=self.batch_size, shuffle=False, num_workers=4)"
      ],
      "metadata": {
        "id": "o7Y3jq00LUz7"
      },
      "execution_count": 41,
      "outputs": []
    },
    {
      "cell_type": "code",
      "source": [
        "datamodule = HomonymyDataModule(train_sentences_list, train_senses_list, train_candidates_list, tokenized_training['input_ids'], tokenized_training['attention_mask'],training_word_ids,train_target_words,\n",
        "                                test_sentences_list, test_senses_list, test_candidates_list,tokenized_test['input_ids'], tokenized_test['attention_mask'], test_word_ids,test_target_words,\n",
        "                                val_sentences_list, val_senses_list, val_candidates_list, tokenized_val['input_ids'], tokenized_val['attention_mask'], val_word_ids,val_target_words,\n",
        "                                tokenizer, sense2idx, idx2sense, parameters_dict['batch_size'], num_senses, parameters_dict['padding_length'])"
      ],
      "metadata": {
        "id": "NjKUh2bQLrxp"
      },
      "execution_count": 42,
      "outputs": []
    },
    {
      "cell_type": "markdown",
      "source": [
        "## Lightning module"
      ],
      "metadata": {
        "id": "H8H9Khw6Lzfg"
      }
    },
    {
      "cell_type": "markdown",
      "source": [
        "The LitHomonymyModel class takes care of intantiating, training, evaluating and testing the model according to the Pytorch Lightning framework."
      ],
      "metadata": {
        "id": "Osq8oL8uL43S"
      }
    },
    {
      "cell_type": "code",
      "source": [
        "class LitHomonymyModel(pl.LightningModule):\n",
        "  def __init__(self, transformer_name, num_classes, padding_length, learning_rate, debug_mode, num_warmup_steps, total_steps):\n",
        "    super().__init__()\n",
        "\n",
        "    self.model = HomonymyAverage(transformer_name, num_classes, padding_length)\n",
        "    self.lr = learning_rate\n",
        "    self.loss_fn = nn.CrossEntropyLoss(ignore_index=0) # the index 0 is associated to padding values.\n",
        "    self.f1_metric = evaluate.load(\"f1\") # use the HuggingFace evaluate library to compute micro-F1\n",
        "    self.debug_mode = debug_mode\n",
        "    self.index_to_ignore = 0\n",
        "\n",
        "    self.num_warmup_steps = num_warmup_steps # num of warmup steps for the scheduler\n",
        "    self.total_steps = total_steps\n",
        "\n",
        "    self.training_step_outputs = {'loss': [], 'accuracy': []}\n",
        "    self.validation_step_outputs = {'loss': [], 'accuracy': []}\n",
        "    self.test_step_outputs = {'accuracy': []}\n",
        "\n",
        "  def training_step(self, batch, batch_idx):\n",
        "    '''\n",
        "    '''\n",
        "    input_ids = batch['tokenized_sentences'].squeeze()\n",
        "    attention_mask = batch['attention_masks'].squeeze()\n",
        "\n",
        "    labels = batch['labels']\n",
        "\n",
        "    logits_mask = batch['logits_mask']\n",
        "    word_ids = batch['word_ids']\n",
        "    target_words = batch['target_words']\n",
        "\n",
        "    logits = self.model(input_ids, attention_mask, word_ids, target_words)\n",
        "\n",
        "    # Apply logits mask\n",
        "    for i in range(len(logits)):\n",
        "      logits[i] = torch.mul(logits_mask[i], logits[i])\n",
        "\n",
        "    labels = labels.view(-1).to(torch.long)  # [batch_size * words_in_a_sentence]\n",
        "    logits = logits.view(-1, logits.shape[2])  # [batch_size * words_in_a_sentence, logits_for_each_possible_label]\n",
        "    loss = self.loss_fn(logits, labels)\n",
        "\n",
        "    accuracy = self.compute_accuracy(logits, labels)\n",
        "\n",
        "    self.training_step_outputs['loss'].append(loss.item())\n",
        "    self.training_step_outputs['accuracy'].append(accuracy['f1'])\n",
        "\n",
        "    self.log('train/loss', loss, on_step=False, on_epoch=True, prog_bar=True)\n",
        "    return loss\n",
        "\n",
        "  def validation_step(self, batch, batch_idx):\n",
        "    input_ids = batch['tokenized_sentences'].squeeze()\n",
        "    attention_mask = batch['attention_masks'].squeeze()\n",
        "\n",
        "    labels = batch['labels']\n",
        "    logits_mask = batch['logits_mask']\n",
        "    word_ids = batch['word_ids']\n",
        "    target_words = batch['target_words']\n",
        "\n",
        "    logits = self.model(input_ids, attention_mask, word_ids, target_words)\n",
        "\n",
        "    # Apply logits mask\n",
        "    for i in range(len(logits)):\n",
        "      logits[i] = torch.mul(logits_mask[i] , logits[i])\n",
        "\n",
        "    labels = labels.view(-1).to(torch.long)  # [batch_size * words_in_a_sentence]\n",
        "    logits = logits.view(-1, logits.shape[2])  # [batch_size * words_in_a_sentence, logits_for_each_possible_label]\n",
        "\n",
        "    loss = self.loss_fn(logits, labels)\n",
        "\n",
        "    accuracy = self.compute_accuracy(logits, labels)\n",
        "\n",
        "    self.validation_step_outputs['loss'].append(loss.item())\n",
        "    self.validation_step_outputs['accuracy'].append(accuracy['f1'])\n",
        "\n",
        "    self.log('validation/loss', loss, on_step=False, on_epoch=True, prog_bar=True)\n",
        "    self.log('validation/accuracy', accuracy['f1'], on_step=False, on_epoch=True, prog_bar=True)\n",
        "\n",
        "    return loss\n",
        "\n",
        "  def test_step(self, batch, batch_idx):\n",
        "    input_ids = batch['tokenized_sentences'].squeeze()\n",
        "    attention_mask = batch['attention_masks'].squeeze()\n",
        "\n",
        "    labels = batch['labels']\n",
        "    logits_mask = batch['logits_mask']\n",
        "    word_ids = batch['word_ids']\n",
        "    target_words = batch['target_words']\n",
        "\n",
        "    logits = self.model(input_ids, attention_mask, word_ids, target_words)\n",
        "\n",
        "    # Apply logits mask\n",
        "    for i in range(len(logits)):\n",
        "      logits[i] = torch.mul(logits_mask[i], logits[i])\n",
        "\n",
        "    labels = labels.view(-1).to(torch.long)  # [batch_size * words_in_a_sentence]\n",
        "    logits = logits.view(-1, logits.shape[2])  # [batch_size * words_in_a_sentence, logits_for_each_possible_label]\n",
        "\n",
        "\n",
        "    accuracy = self.compute_accuracy(logits, labels)\n",
        "    self.test_step_outputs['accuracy'].append(accuracy['f1'])\n",
        "\n",
        "    self.log('test/accuracy', accuracy['f1'], on_step=False, on_epoch=True, prog_bar=True)\n",
        "\n",
        "    return accuracy\n",
        "\n",
        "\n",
        "  def compute_accuracy(self, logits, labels):\n",
        "    '''\n",
        "    Computes the accuracy by taking the argmax of the logits and discarding the padding labels.\n",
        "    Accuracy is computed using HuggingFace's evaluate library with micro-f1.\n",
        "    '''\n",
        "     # Find non-ignored indices\n",
        "    non_ignored_indices = (labels != self.index_to_ignore)\n",
        "\n",
        "    # Compute predicted labels\n",
        "    predicted_labels = logits.argmax(dim=1)\n",
        "\n",
        "    # Compare predicted labels with ground truth labels, ignoring the desired index\n",
        "    correct_predictions = (predicted_labels == labels)\n",
        "    correct_predictions = correct_predictions[non_ignored_indices]\n",
        "\n",
        "    accuracy = self.f1_metric.compute(predictions=predicted_labels[non_ignored_indices], references=labels[non_ignored_indices], average=\"micro\")\n",
        "\n",
        "    return accuracy\n",
        "\n",
        "  def on_train_epoch_end(self):\n",
        "    '''\n",
        "    Compute average loss and accuracy when epoch ends and log them.\n",
        "    '''\n",
        "    print(f'Training epoch: {self.current_epoch}:')\n",
        "    avg_loss = sum(self.training_step_outputs['loss']) / len(self.training_step_outputs['loss'])\n",
        "    avg_acc = sum(self.training_step_outputs['accuracy']) / len(self.training_step_outputs['accuracy'])\n",
        "\n",
        "    print('avg_train_loss', avg_loss)\n",
        "    print('avg_train_acc', avg_acc)\n",
        "    print()\n",
        "\n",
        "    self.log('avg_train_loss', avg_loss)\n",
        "    self.log('avg_train_acc', avg_acc)\n",
        "\n",
        "    self.training_step_outputs['loss'].clear()\n",
        "    self.training_step_outputs['accuracy'].clear()\n",
        "\n",
        "    # Log to wandb if not in debug mode\n",
        "    if not self.debug_mode:\n",
        "      wandb.log({\"train/loss\": avg_loss})\n",
        "      wandb.log({\"train/accuracy\": avg_acc})\n",
        "\n",
        "  def on_validation_epoch_end(self):\n",
        "    '''\n",
        "    Compute average loss and accuracy when epoch ends and log them.\n",
        "    '''\n",
        "    print(f'Validation epoch {self.current_epoch}:')\n",
        "    avg_loss = sum(self.validation_step_outputs['loss']) / len(self.validation_step_outputs['loss'])\n",
        "    avg_acc = sum(self.validation_step_outputs['accuracy']) / len(self.validation_step_outputs['accuracy'])\n",
        "\n",
        "    print('avg_validation_loss', avg_loss)\n",
        "    print('avg_validation_acc', avg_acc)\n",
        "    print()\n",
        "\n",
        "    self.log('avg_validation_loss', avg_loss)\n",
        "    self.log('avg_validation_acc', avg_acc)\n",
        "\n",
        "    self.validation_step_outputs['loss'].clear()\n",
        "    self.validation_step_outputs['accuracy'].clear()\n",
        "\n",
        "    # Log to wandb if not in debug mode\n",
        "    if not self.debug_mode:\n",
        "      wandb.log({\"validation/loss\": avg_loss})\n",
        "      wandb.log({\"validation/accuracy\": avg_acc})\n",
        "\n",
        "  def on_test_end(self):\n",
        "    '''\n",
        "    Compute the final test accuracy.\n",
        "    '''\n",
        "    print('Test result:')\n",
        "    avg_acc = sum(self.test_step_outputs['accuracy']) / len(self.test_step_outputs['accuracy'])\n",
        "\n",
        "    print('avg_test_acc', avg_acc)\n",
        "    print()\n",
        "\n",
        "    self.test_step_outputs['accuracy'].clear()\n",
        "\n",
        "    # Log to wandb if not in debug mode\n",
        "    if not self.debug_mode:\n",
        "      wandb.log({\"test/accuracy\": avg_acc})\n",
        "\n",
        "  def configure_optimizers(self):\n",
        "    '''\n",
        "    Initializes the optimizer (AdamW) and the learning rate scheduler.\n",
        "    '''\n",
        "    optimizer = torch.optim.RAdam(self.parameters(), self.lr)\n",
        "\n",
        "    scheduler = get_linear_schedule_with_warmup(optimizer, num_warmup_steps=5, num_training_steps=self.total_steps)\n",
        "    return [optimizer], [scheduler]"
      ],
      "metadata": {
        "id": "qb0qQZNWLwNZ"
      },
      "execution_count": 44,
      "outputs": []
    },
    {
      "cell_type": "code",
      "source": [
        "# Initialize lightning module\n",
        "model = LitHomonymyModel(parameters_dict['transformer_name'], num_senses, parameters_dict['padding_length'],parameters_dict['learning_rate'],\n",
        "                         parameters_dict['debug_mode'], parameters_dict['num_warmup_steps'], parameters_dict['num_epochs'])"
      ],
      "metadata": {
        "id": "oTg817JQNVyk"
      },
      "execution_count": 45,
      "outputs": []
    },
    {
      "cell_type": "code",
      "source": [
        "# Checkpoint callback to save best model based on highest validation accuracy.\n",
        "checkpoint_callback = pl.callbacks.ModelCheckpoint(\n",
        "    monitor='avg_validation_acc',\n",
        "    verbose=True,\n",
        "    save_top_k=1,\n",
        "    mode='max',\n",
        "    dirpath= parameters_dict['checkpoint_dir'],\n",
        "    filename=\"{epoch}-{avg_validation_acc:.4f}\"\n",
        ")"
      ],
      "metadata": {
        "id": "ABxQFHDiOS01"
      },
      "execution_count": 46,
      "outputs": []
    },
    {
      "cell_type": "code",
      "source": [
        "if parameters_dict['debug_mode']: # if in debug mode, disable checkpoining\n",
        "  trainer = pl.Trainer(max_epochs=parameters_dict['num_epochs'])\n",
        "else:\n",
        "  trainer = pl.Trainer(max_epochs=parameters_dict['num_epochs'], callbacks=[checkpoint_callback])"
      ],
      "metadata": {
        "id": "i3I562ssOkqx"
      },
      "execution_count": null,
      "outputs": []
    },
    {
      "cell_type": "code",
      "source": [
        "trainer.fit(model=model, datamodule=datamodule)"
      ],
      "metadata": {
        "id": "HGMR4CJLOpDz"
      },
      "execution_count": null,
      "outputs": []
    },
    {
      "cell_type": "markdown",
      "source": [
        "## Model testing"
      ],
      "metadata": {
        "id": "-eFU3HuLPY_W"
      }
    },
    {
      "cell_type": "markdown",
      "source": [
        "Test the model using the Lightning framework."
      ],
      "metadata": {
        "id": "pv5UVtiYWxVG"
      }
    },
    {
      "cell_type": "code",
      "source": [
        "trainer.test(ckpt_path=parameters_dict['checkpoint dir'], dataloaders=datamodule.test_dataloader())"
      ],
      "metadata": {
        "id": "hX48NrpXOtR8"
      },
      "execution_count": null,
      "outputs": []
    }
  ]
}